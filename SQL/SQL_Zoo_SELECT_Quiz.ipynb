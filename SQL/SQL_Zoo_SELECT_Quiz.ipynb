{
 "cells": [
  {
   "cell_type": "markdown",
   "metadata": {},
   "source": [
    "# SELECT QUIZ\n",
    "hyperlink: [SELECT Quiz](https://sqlzoo.net/wiki/SELECT_Quiz)"
   ]
  },
  {
   "cell_type": "markdown",
   "metadata": {},
   "source": [
    "## 1. Select the code which produces this table\n",
    "| name   |      population|\n",
    "|----------|:-------------:|\n",
    "| Bahrain |  1234571|\n",
    "| Swaziland|    1220000|\n",
    "| Timor-Leste | 1066409 |\n"
   ]
  },
  {
   "cell_type": "markdown",
   "metadata": {},
   "source": [
    "#### Answer:\n",
    "SELECT name\n",
    "FROM world\n",
    "WHERE population BETWEEN 1000000 AND 12500000\n"
   ]
  },
  {
   "cell_type": "markdown",
   "metadata": {},
   "source": [
    "## 2. Pick the result you would obtain from this code:\n",
    " SELECT name, population\n",
    "      FROM world\n",
    "      WHERE name LIKE \"Al%\""
   ]
  },
  {
   "cell_type": "markdown",
   "metadata": {},
   "source": [
    "#### Answer:\n",
    "| table-E   |      |\n",
    "|----------|:-------------:|\n",
    "| Albania |  3200000|\n",
    "| Algeria|    32900000|"
   ]
  },
  {
   "cell_type": "markdown",
   "metadata": {},
   "source": [
    "## 3. Select the code which shows the countries that end in A or L"
   ]
  },
  {
   "cell_type": "markdown",
   "metadata": {},
   "source": [
    "#### Answer:\n",
    "SELECT name\n",
    "FROM world\n",
    "WHERE name LIKE '%a' OR name LIKE '%l'"
   ]
  },
  {
   "cell_type": "markdown",
   "metadata": {},
   "source": [
    "## 4. Pick the result from the query\n",
    "SELECT name,length(name)\n",
    "FROM world\n",
    "WHERE length(name)=5 and region='Europe'"
   ]
  },
  {
   "cell_type": "markdown",
   "metadata": {},
   "source": [
    "#### Answer: \n",
    "| name   |      length(name)|\n",
    "|----------|:-------------:|\n",
    "| Italy |  5|\n",
    "| Malta|    5|\n",
    "| Spain| 5 |\n"
   ]
  },
  {
   "cell_type": "markdown",
   "metadata": {},
   "source": [
    "## 5. Here are the first few rows of the world table:\n",
    "\n",
    "| name  | region  | area  |  population | gdp  |\n",
    "|---|---|---|---|---|\n",
    "| Afghanistan  | South Asia  | 652225  | 26000000  |   |\n",
    "| Albania  | Europe  |  28728 | 3200000  | 6656000000  |\n",
    "| Algeria  | Middle East  | 2400000  | 32900000  | 75012000000  |\n",
    "| Andorra  | Europe  | 468  | 64000  |   |\n",
    "\n",
    "...\n",
    "Pick the result you would obtain from this code:\n",
    "SELECT name, area*2 FROM world WHERE population = 64000"
   ]
  },
  {
   "cell_type": "markdown",
   "metadata": {},
   "source": [
    "#### Answer:\n",
    "Andoorra | 936"
   ]
  },
  {
   "cell_type": "markdown",
   "metadata": {},
   "source": [
    "## 6. Select the code that would show the countries with an area larger than 50000 and a population smaller than 10000000"
   ]
  },
  {
   "cell_type": "markdown",
   "metadata": {},
   "source": [
    "#### Answer:\n",
    "SELECT name\n",
    "FROM world\n",
    "WHERE area > 50000 AND population < 10000000"
   ]
  },
  {
   "cell_type": "markdown",
   "metadata": {},
   "source": [
    "## 7. Select the code that shows the population density of China, Australia, Nigeria and France"
   ]
  },
  {
   "cell_type": "markdown",
   "metadata": {},
   "source": [
    "#### Answer\n",
    "SELECT name, population/area\n",
    "FROM world\n",
    "WHERE name IN ('China', 'Nigeria', 'France', 'Australia')"
   ]
  }
 ],
 "metadata": {
  "kernelspec": {
   "display_name": "Python 3",
   "language": "python",
   "name": "python3"
  },
  "language_info": {
   "codemirror_mode": {
    "name": "ipython",
    "version": 3
   },
   "file_extension": ".py",
   "mimetype": "text/x-python",
   "name": "python",
   "nbconvert_exporter": "python",
   "pygments_lexer": "ipython3",
   "version": "3.6.8"
  }
 },
 "nbformat": 4,
 "nbformat_minor": 2
}
