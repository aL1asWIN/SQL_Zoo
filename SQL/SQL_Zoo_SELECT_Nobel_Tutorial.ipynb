{
 "cells": [
  {
   "cell_type": "markdown",
   "metadata": {},
   "source": [
    "# SELECT from Nobel Tutorial: \n",
    "hyperlink: [SELECT from Nobel Tutorial](https://sqlzoo.net/wiki/SELECT_from_Nobel_Tutorial)"
   ]
  },
  {
   "cell_type": "markdown",
   "metadata": {},
   "source": [
    "## 1. Winners from 1950\n",
    "Change the query shown so that it displays Nobel prizes for 1950."
   ]
  },
  {
   "cell_type": "markdown",
   "metadata": {},
   "source": [
    "#### Answer:\n",
    "SELECT yr, subject, winner\n",
    "FROM nobel\n",
    "WHERE yr = 1950"
   ]
  },
  {
   "cell_type": "markdown",
   "metadata": {},
   "source": [
    "## 2. 1962 Literature\n",
    "Show who won the 1962 prize for Literature."
   ]
  },
  {
   "cell_type": "markdown",
   "metadata": {},
   "source": [
    "#### Answer\n",
    "SELECT winner\n",
    "FROM nobel\n",
    "WHERE yr = 1962\n",
    "AND subject = 'Literature'"
   ]
  },
  {
   "cell_type": "markdown",
   "metadata": {},
   "source": [
    "## 3. Albert Einstein\n",
    "Show the year and subject that won 'Albert Einstein' his prize."
   ]
  },
  {
   "cell_type": "markdown",
   "metadata": {},
   "source": [
    "#### Answer:\n",
    "SELECT yr, subject\n",
    "FROM nobel\n",
    "WHERE winner = 'Albert Einstein'"
   ]
  },
  {
   "cell_type": "markdown",
   "metadata": {},
   "source": [
    "## 4. Recent Peace Prizes\n",
    "Give the name of the 'Peace' winners since the year 2000, including 2000."
   ]
  },
  {
   "cell_type": "markdown",
   "metadata": {},
   "source": [
    "#### Answer: \n",
    "SELECT winner\n",
    "from nobel\n",
    "WHERE subject = 'Peace'\n",
    "AND yr >= 2000"
   ]
  },
  {
   "cell_type": "markdown",
   "metadata": {},
   "source": [
    "## 5. Literature in the 1980's\n",
    "Show all details (yr, subject, winner) of the Literature prize winners for 1980 to 1989 inclusive."
   ]
  },
  {
   "cell_type": "markdown",
   "metadata": {},
   "source": [
    "#### Answer:\n",
    "SELECT *\n",
    "FROM nobel\n",
    "WHERE subject = 'Literature'\n",
    "AND yr BETWEEN 1980 AND 1989"
   ]
  },
  {
   "cell_type": "markdown",
   "metadata": {},
   "source": [
    "## 6. Only Presidents\n",
    "Show all details of the presidential winners:\n",
    "\n",
    "- Theodore Roosevelt\n",
    "- Woodrow Wilson\n",
    "- Jimmy Carter\n",
    "- Barack Obama"
   ]
  },
  {
   "cell_type": "markdown",
   "metadata": {},
   "source": [
    "#### Answer:\n",
    "SELECT *\n",
    "FROM nobel\n",
    "WHERE winner IN ('Theodore Roosevelt', 'Woodrow Wilson', 'Jimmy Carter', 'Barack Obama')"
   ]
  },
  {
   "cell_type": "markdown",
   "metadata": {},
   "source": [
    "## 7. John\n",
    "Show the winners with first name John"
   ]
  },
  {
   "cell_type": "markdown",
   "metadata": {},
   "source": [
    "#### Answer\n",
    "SELECT winner\n",
    "FROM nobel\n",
    "WHERE winner LIKE 'John%'"
   ]
  },
  {
   "cell_type": "markdown",
   "metadata": {},
   "source": [
    "## 8. Chemistry and Physics from different years\n",
    "Show the year, subject, and name of Physics winners for 1980 together with the Chemistry winners for 1984."
   ]
  },
  {
   "cell_type": "markdown",
   "metadata": {},
   "source": [
    "#### Answer:\n",
    "SELECT yr, subject, winner\n",
    "FROM nobel\n",
    "WHERE (subject = 'Physics' AND yr = 1980)\n",
    "OR (subject = 'Chemistry' AND yr = 1984)"
   ]
  },
  {
   "cell_type": "markdown",
   "metadata": {},
   "source": [
    "## 9. Exclude Chemists and Medics\n",
    "Show the year, subject, and name of winners for 1980 excluding Chemistry and Medicine"
   ]
  },
  {
   "cell_type": "markdown",
   "metadata": {},
   "source": [
    "#### Answer: \n",
    "SELECT yr, subject, winner\n",
    "FROM nobel\n",
    "WHERE yr = 1980\n",
    "AND subject NOT IN ('Chemistry', 'Medicine')"
   ]
  },
  {
   "cell_type": "markdown",
   "metadata": {},
   "source": [
    "## 10. Early Medicine, Late Literature\n",
    "Show year, subject, and name of people who won a 'Medicine' prize in an early year (before 1910, not including 1910) together with winners of a 'Literature' prize in a later year (after 2004, including 2004)"
   ]
  },
  {
   "cell_type": "markdown",
   "metadata": {},
   "source": [
    "#### Answer:\n",
    "SELECT yr, subject, winner\n",
    "FROM nobel\n",
    "WHERE (subject = 'Medicine' AND yr < 1910)\n",
    "OR (subject = 'Literature' AND yr >= 2004)"
   ]
  },
  {
   "cell_type": "markdown",
   "metadata": {},
   "source": [
    "## 11. Umlaut\n",
    "Find all details of the prize won by PETER GRÜNBERG\n",
    "\n"
   ]
  },
  {
   "cell_type": "markdown",
   "metadata": {},
   "source": [
    "#### Answer:\n",
    "SELECT *\n",
    "FROM nobel\n",
    "WHERE winner = 'PETER GRÜNBERG'"
   ]
  },
  {
   "cell_type": "markdown",
   "metadata": {},
   "source": [
    "## 12. Apostrophe\n",
    "Find all details of the prize won by EUGENE O'NEILL"
   ]
  },
  {
   "cell_type": "markdown",
   "metadata": {},
   "source": [
    "#### Answer:\n",
    "SELECT *\n",
    "FROM nobel\n",
    "WHERE winner = 'EUGENE O''NEILL'"
   ]
  },
  {
   "cell_type": "markdown",
   "metadata": {},
   "source": [
    "## 13. Knights of the realm\n",
    "Knights in order\n",
    "\n",
    "List the winners, year and subject where the winner starts with Sir. Show the the most recent first, then by name order."
   ]
  },
  {
   "cell_type": "markdown",
   "metadata": {},
   "source": [
    "#### Answer:\n",
    "SELECT winner, yr, subject\n",
    "FROM nobel\n",
    "WHERE winner LIKE 'Sir%'\n",
    "ORDER BY yr DESC"
   ]
  },
  {
   "cell_type": "markdown",
   "metadata": {},
   "source": [
    "## 14. Chemistry and Physics last\n",
    "The expression subject IN ('Chemistry','Physics') can be used as a value - it will be 0 or 1.\n",
    "\n",
    "Show the 1984 winners and subject ordered by subject and winner name; but list Chemistry and Physics last."
   ]
  },
  {
   "cell_type": "markdown",
   "metadata": {},
   "source": [
    "#### Answer:\n",
    "SELECT winner, subject\n",
    "FROM nobel\n",
    "WHERE yr = 1984\n",
    "ORDER BY subject IN ('Economics', 'Literature', 'Medicine', 'Peace', 'Chemistry', 'Physics')\n",
    "AND winner"
   ]
  }
 ],
 "metadata": {
  "kernelspec": {
   "display_name": "Python 3",
   "language": "python",
   "name": "python3"
  },
  "language_info": {
   "codemirror_mode": {
    "name": "ipython",
    "version": 3
   },
   "file_extension": ".py",
   "mimetype": "text/x-python",
   "name": "python",
   "nbconvert_exporter": "python",
   "pygments_lexer": "ipython3",
   "version": "3.6.8"
  }
 },
 "nbformat": 4,
 "nbformat_minor": 2
}
